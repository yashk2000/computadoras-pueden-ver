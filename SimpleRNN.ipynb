{
  "nbformat": 4,
  "nbformat_minor": 0,
  "metadata": {
    "colab": {
      "name": "SimpleRNN.ipynb",
      "provenance": [],
      "authorship_tag": "ABX9TyNupTlq6J80xFRyekzsmKg3",
      "include_colab_link": true
    },
    "kernelspec": {
      "name": "python3",
      "display_name": "Python 3"
    },
    "accelerator": "GPU"
  },
  "cells": [
    {
      "cell_type": "markdown",
      "metadata": {
        "id": "view-in-github",
        "colab_type": "text"
      },
      "source": [
        "<a href=\"https://colab.research.google.com/github/yashk2000/computadoras-pueden-ver/blob/master/SimpleRNN.ipynb\" target=\"_parent\"><img src=\"https://colab.research.google.com/assets/colab-badge.svg\" alt=\"Open In Colab\"/></a>"
      ]
    },
    {
      "cell_type": "code",
      "metadata": {
        "id": "QduZ0CAdZBsX",
        "colab_type": "code",
        "colab": {}
      },
      "source": [
        "import torch\n",
        "from torch import nn\n",
        "import numpy as np\n",
        "import matplotlib.pyplot as plt\n"
      ],
      "execution_count": 0,
      "outputs": []
    },
    {
      "cell_type": "code",
      "metadata": {
        "id": "Kz9N1_YWcKxr",
        "colab_type": "code",
        "colab": {
          "base_uri": "https://localhost:8080/",
          "height": 320
        },
        "outputId": "4fcef5dc-59eb-4585-a14e-ff8d1aa43dc4"
      },
      "source": [
        "plt.figure(figsize=(8, 5))\n",
        "\n",
        "seq_length = 20\n",
        "\n",
        "time_steps = np.linspace(0, np.pi, seq_length + 1)\n",
        "data = np.sin(time_steps)\n",
        "data.resize((seq_length + 1, 1))\n",
        "\n",
        "x = data[:-1]\n",
        "y = data[1:]\n",
        "\n",
        "plt.plot(time_steps[1:], x, 'r.', label = 'input, x')\n",
        "plt.plot(time_steps[1:], y, 'b.', label = 'target, y')\n",
        "\n",
        "plt.legend(loc = 'best')\n",
        "plt.show()"
      ],
      "execution_count": 2,
      "outputs": [
        {
          "output_type": "display_data",
          "data": {
            "image/png": "[encoded data removed]",
            "text/plain": [
              "<Figure size 576x360 with 1 Axes>"
            ]
          },
          "metadata": {
            "tags": []
          }
        }
      ]
    },
    {
      "cell_type": "code",
      "metadata": {
        "id": "KPkEHzrydjzH",
        "colab_type": "code",
        "colab": {}
      },
      "source": [
        "class RNN(nn.Module):\n",
        "  def __init__(self, input_size, output_size, hidden_dim, n_layers):\n",
        "    super(RNN, self).__init__()\n",
        "\n",
        "    self.hidden_dim = hidden_dim\n",
        "\n",
        "    self.rnn = nn.RNN(input_size, hidden_dim, n_layers, batch_first = True)\n",
        "\n",
        "    self.fc = nn.Linear(hidden_dim, output_size)\n",
        "\n",
        "  def forward(self, x, hidden):\n",
        "    batch_size = x.size(0)\n",
        "\n",
        "    r_out, hidden = self.rnn(x, hidden)\n",
        "\n",
        "    r_out = r_out.view(-1, self.hidden_dim)\n",
        "\n",
        "    output = self.fc(r_out)\n",
        "\n",
        "    return output, hidden"
      ],
      "execution_count": 0,
      "outputs": []
    },
    {
      "cell_type": "code",
      "metadata": {
        "id": "KofXpKxagRYk",
        "colab_type": "code",
        "colab": {
          "base_uri": "https://localhost:8080/",
          "height": 71
        },
        "outputId": "2d2634b9-1074-484c-e781-9b541d462e9b"
      },
      "source": [
        "test_rnn = RNN(input_size = 1, output_size = 1, hidden_dim = 10, n_layers = 2)\n",
        "\n",
        "time_steps = np.linspace(0, np.pi, seq_length)\n",
        "data = np.sin(time_steps)\n",
        "data.resize((seq_length, 1))\n",
        "\n",
        "test_input = torch.Tensor(data).unsqueeze(0)\n",
        "\n",
        "print('Input size: ', test_input.size())\n",
        "\n",
        "test_out, test_h = test_rnn(test_input, None)\n",
        "print('Output size: ', test_out.size())\n",
        "print('hidden state size: ', test_h.size())"
      ],
      "execution_count": 4,
      "outputs": [
        {
          "output_type": "stream",
          "text": [
            "Input size:  torch.Size([1, 20, 1])\n",
            "Output size:  torch.Size([20, 1])\n",
            "hidden state size:  torch.Size([2, 1, 10])\n"
          ],
          "name": "stdout"
        }
      ]
    },
    {
      "cell_type": "code",
      "metadata": {
        "id": "PH5Y5k35h0Dq",
        "colab_type": "code",
        "colab": {
          "base_uri": "https://localhost:8080/",
          "height": 89
        },
        "outputId": "8a7f3af1-d36e-4742-9c69-d942a27b03b5"
      },
      "source": [
        "input_size = 1\n",
        "output_size = 1\n",
        "hidden_dim = 32\n",
        "n_layers = 1\n",
        "\n",
        "rnn = RNN(input_size, output_size, hidden_dim, n_layers)\n",
        "print(rnn)"
      ],
      "execution_count": 5,
      "outputs": [
        {
          "output_type": "stream",
          "text": [
            "RNN(\n",
            "  (rnn): RNN(1, 32, batch_first=True)\n",
            "  (fc): Linear(in_features=32, out_features=1, bias=True)\n",
            ")\n"
          ],
          "name": "stdout"
        }
      ]
    },
    {
      "cell_type": "code",
      "metadata": {
        "id": "ro9gRomsiSS2",
        "colab_type": "code",
        "colab": {}
      },
      "source": [
        "criterion = nn.MSELoss()\n",
        "optimizer = torch.optim.Adam(rnn.parameters(), lr = 0.01)"
      ],
      "execution_count": 0,
      "outputs": []
    },
    {
      "cell_type": "code",
      "metadata": {
        "id": "uM5ozngbiihk",
        "colab_type": "code",
        "colab": {}
      },
      "source": [
        "def train(rnn, n_steps, print_every):\n",
        "  hidden = None\n",
        "  \n",
        "  for batch_i, step in enumerate(range(n_steps)):\n",
        "    time_steps = np.linspace(step * np.pi, (step + 1) * np.pi, seq_length + 1)\n",
        "    data = np.sin(time_steps)\n",
        "    data.resize((seq_length + 1, 1))\n",
        "\n",
        "    x = data[:-1]\n",
        "    y = data[1:]\n",
        "\n",
        "    x_tensor = torch.Tensor(x).unsqueeze(0)\n",
        "\n",
        "    y_tensor = torch.Tensor(y)\n",
        "\n",
        "    prediction, hidden = rnn(x_tensor, hidden)\n",
        "\n",
        "    hidden = hidden.data\n",
        "\n",
        "    loss = criterion(prediction, y_tensor)\n",
        "\n",
        "    optimizer.zero_grad()\n",
        "\n",
        "    loss.backward()\n",
        "    optimizer.step()\n",
        "\n",
        "    if batch_i % print_every == 0:\n",
        "      print('Loss: ', loss.item())\n",
        "      plt.plot(time_steps[1:], x, 'r.')\n",
        "      plt.plot(time_steps[1:], prediction.data.numpy().flatten(), 'b.')\n",
        "\n",
        "      plt.show()\n",
        "\n",
        "    return rnn"
      ],
      "execution_count": 0,
      "outputs": []
    },
    {
      "cell_type": "code",
      "metadata": {
        "id": "9tkO5lK4m4Rr",
        "colab_type": "code",
        "colab": {
          "base_uri": "https://localhost:8080/",
          "height": 283
        },
        "outputId": "2dedf2bc-eb17-4df8-84a4-a11842482d70"
      },
      "source": [
        "n_steps = 75\n",
        "print_every = 15\n",
        "\n",
        "trained_rnn = train(rnn, n_steps, print_every)"
      ],
      "execution_count": 17,
      "outputs": [
        {
          "output_type": "stream",
          "text": [
            "Loss:  0.0560467466711998\n"
          ],
          "name": "stdout"
        },
        {
          "output_type": "display_data",
          "data": {
            "image/png": "[encoded data removed]",
            "text/plain": [
              "<Figure size 432x288 with 1 Axes>"
            ]
          },
          "metadata": {
            "tags": []
          }
        }
      ]
    }
  ]
}